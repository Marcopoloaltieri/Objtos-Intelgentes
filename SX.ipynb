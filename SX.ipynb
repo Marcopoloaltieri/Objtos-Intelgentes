{
  "nbformat": 4,
  "nbformat_minor": 0,
  "metadata": {
    "colab": {
      "provenance": [],
      "authorship_tag": "ABX9TyOmLsMbRSFbU2Qd5+rC7Lqi",
      "include_colab_link": true
    },
    "kernelspec": {
      "name": "python3",
      "display_name": "Python 3"
    },
    "language_info": {
      "name": "python"
    }
  },
  "cells": [
    {
      "cell_type": "markdown",
      "metadata": {
        "id": "view-in-github",
        "colab_type": "text"
      },
      "source": [
        "<a href=\"https://colab.research.google.com/github/Marcopoloaltieri/Objtos-Intelgentes/blob/main/SX.ipynb\" target=\"_parent\"><img src=\"https://colab.research.google.com/assets/colab-badge.svg\" alt=\"Open In Colab\"/></a>"
      ]
    },
    {
      "cell_type": "code",
      "execution_count": 1,
      "metadata": {
        "id": "M-nRJJjSAGuB"
      },
      "outputs": [],
      "source": [
        "!apt-get install openjdk-8-jdk-headless -qq>/dev/null\n"
      ]
    },
    {
      "cell_type": "code",
      "source": [
        "!wget -q https://dlcdn.apache.org/spark/spark-3.4.4/spark-3.4.4-bin-hadoop3.tgz"
      ],
      "metadata": {
        "id": "m6lnQimAAahm"
      },
      "execution_count": 13,
      "outputs": []
    },
    {
      "cell_type": "code",
      "source": [
        "!tar xf /content/spark-3.4.4-bin-hadoop3.tgz"
      ],
      "metadata": {
        "id": "OA5QhuBRCTCm"
      },
      "execution_count": 16,
      "outputs": []
    },
    {
      "cell_type": "code",
      "source": [
        "import os\n",
        "os.environ[\"JAVA_HOME\"] = \"/usr/lib/jvm/java-8-openjdk-amd64\"\n",
        "os.environ[\"SPARK_HOME\"] = \"/content/spark-3.4.4-bin-hadoop3\""
      ],
      "metadata": {
        "id": "WSiYULQbBLgv"
      },
      "execution_count": 22,
      "outputs": []
    },
    {
      "cell_type": "code",
      "source": [
        "!pip install -q findspark"
      ],
      "metadata": {
        "id": "VnSKpH-xBNBW"
      },
      "execution_count": 18,
      "outputs": []
    },
    {
      "cell_type": "code",
      "source": [
        "import findspark\n",
        "findspark.init()"
      ],
      "metadata": {
        "id": "9GyglJ0KBwH-"
      },
      "execution_count": 23,
      "outputs": []
    },
    {
      "cell_type": "code",
      "source": [
        "from pyspark.sql.types import StructType, StructField, IntegerType, StringType\n",
        "from pyspark.sql.functions import col"
      ],
      "metadata": {
        "id": "bm7kNxEdaaZ8"
      },
      "execution_count": 61,
      "outputs": []
    },
    {
      "cell_type": "code",
      "source": [
        "#Spark session\n",
        "from pyspark.sql import SparkSession\n",
        "from pyspark.sql.functions import col"
      ],
      "metadata": {
        "id": "u2KgV0zUDUnE"
      },
      "execution_count": 25,
      "outputs": []
    },
    {
      "cell_type": "code",
      "source": [
        "# Inicializando a sessão Spark\n",
        "spark = SparkSession.builder \\\n",
        "    .appName(\"SX_ENEM_2020\") \\\n",
        "    .getOrCreate()"
      ],
      "metadata": {
        "id": "1Txx7AVJDXau"
      },
      "execution_count": 26,
      "outputs": []
    },
    {
      "cell_type": "code",
      "source": [
        "# Extração: leitura do arquivo CSV\n",
        "# Neste caso tambem há a opção do google.collabe open file que importa o arquivo para dentro do código partindo da sua máquina porém devido ao volume de dados ele é demorado e compensa mais subir o arquivo direto e usar o comando .load(/content/)\n",
        "df = spark.read.format(\"csv\") \\\n",
        "    .option(\"header\", \"true\") \\\n",
        "    .option(\"inferSchema\", \"true\") \\\n",
        "    .option(\"delimiter\", \";\") \\\n",
        "    .load(\"/content/MICRODADOS_ENEM_2020.csv\")"
      ],
      "metadata": {
        "id": "lHR2650TFHdt"
      },
      "execution_count": 47,
      "outputs": []
    },
    {
      "cell_type": "code",
      "source": [
        "# Exibindo o Scheme (tipos das variaveis)\n",
        "df.printSchema()"
      ],
      "metadata": {
        "colab": {
          "base_uri": "https://localhost:8080/"
        },
        "collapsed": true,
        "id": "KQjE-pCzQRwB",
        "outputId": "8da95096-9245-4b5d-b633-980cd79c20c8"
      },
      "execution_count": 50,
      "outputs": [
        {
          "output_type": "stream",
          "name": "stdout",
          "text": [
            "root\n",
            " |-- NU_INSCRICAO: long (nullable = true)\n",
            " |-- NU_ANO: integer (nullable = true)\n",
            " |-- TP_FAIXA_ETARIA: integer (nullable = true)\n",
            " |-- TP_SEXO: string (nullable = true)\n",
            " |-- TP_ESTADO_CIVIL: integer (nullable = true)\n",
            " |-- TP_COR_RACA: integer (nullable = true)\n",
            " |-- TP_NACIONALIDADE: integer (nullable = true)\n",
            " |-- TP_ST_CONCLUSAO: integer (nullable = true)\n",
            " |-- TP_ANO_CONCLUIU: integer (nullable = true)\n",
            " |-- TP_ESCOLA: integer (nullable = true)\n",
            " |-- TP_ENSINO: integer (nullable = true)\n",
            " |-- IN_TREINEIRO: integer (nullable = true)\n",
            " |-- CO_MUNICIPIO_ESC: integer (nullable = true)\n",
            " |-- NO_MUNICIPIO_ESC: string (nullable = true)\n",
            " |-- CO_UF_ESC: integer (nullable = true)\n",
            " |-- SG_UF_ESC: string (nullable = true)\n",
            " |-- TP_DEPENDENCIA_ADM_ESC: integer (nullable = true)\n",
            " |-- TP_LOCALIZACAO_ESC: integer (nullable = true)\n",
            " |-- TP_SIT_FUNC_ESC: integer (nullable = true)\n",
            " |-- CO_MUNICIPIO_PROVA: integer (nullable = true)\n",
            " |-- NO_MUNICIPIO_PROVA: string (nullable = true)\n",
            " |-- CO_UF_PROVA: integer (nullable = true)\n",
            " |-- SG_UF_PROVA: string (nullable = true)\n",
            " |-- TP_PRESENCA_CN: integer (nullable = true)\n",
            " |-- TP_PRESENCA_CH: integer (nullable = true)\n",
            " |-- TP_PRESENCA_LC: integer (nullable = true)\n",
            " |-- TP_PRESENCA_MT: integer (nullable = true)\n",
            " |-- CO_PROVA_CN: integer (nullable = true)\n",
            " |-- CO_PROVA_CH: integer (nullable = true)\n",
            " |-- CO_PROVA_LC: integer (nullable = true)\n",
            " |-- CO_PROVA_MT: integer (nullable = true)\n",
            " |-- NU_NOTA_CN: double (nullable = true)\n",
            " |-- NU_NOTA_CH: double (nullable = true)\n",
            " |-- NU_NOTA_LC: double (nullable = true)\n",
            " |-- NU_NOTA_MT: double (nullable = true)\n",
            " |-- TX_RESPOSTAS_CN: string (nullable = true)\n",
            " |-- TX_RESPOSTAS_CH: string (nullable = true)\n",
            " |-- TX_RESPOSTAS_LC: string (nullable = true)\n",
            " |-- TX_RESPOSTAS_MT: string (nullable = true)\n",
            " |-- TP_LINGUA: integer (nullable = true)\n",
            " |-- TX_GABARITO_CN: string (nullable = true)\n",
            " |-- TX_GABARITO_CH: string (nullable = true)\n",
            " |-- TX_GABARITO_LC: string (nullable = true)\n",
            " |-- TX_GABARITO_MT: string (nullable = true)\n",
            " |-- TP_STATUS_REDACAO: integer (nullable = true)\n",
            " |-- NU_NOTA_COMP1: integer (nullable = true)\n",
            " |-- NU_NOTA_COMP2: integer (nullable = true)\n",
            " |-- NU_NOTA_COMP3: integer (nullable = true)\n",
            " |-- NU_NOTA_COMP4: integer (nullable = true)\n",
            " |-- NU_NOTA_COMP5: integer (nullable = true)\n",
            " |-- NU_NOTA_REDACAO: integer (nullable = true)\n",
            " |-- Q001: string (nullable = true)\n",
            " |-- Q002: string (nullable = true)\n",
            " |-- Q003: string (nullable = true)\n",
            " |-- Q004: string (nullable = true)\n",
            " |-- Q005: integer (nullable = true)\n",
            " |-- Q006: string (nullable = true)\n",
            " |-- Q007: string (nullable = true)\n",
            " |-- Q008: string (nullable = true)\n",
            " |-- Q009: string (nullable = true)\n",
            " |-- Q010: string (nullable = true)\n",
            " |-- Q011: string (nullable = true)\n",
            " |-- Q012: string (nullable = true)\n",
            " |-- Q013: string (nullable = true)\n",
            " |-- Q014: string (nullable = true)\n",
            " |-- Q015: string (nullable = true)\n",
            " |-- Q016: string (nullable = true)\n",
            " |-- Q017: string (nullable = true)\n",
            " |-- Q018: string (nullable = true)\n",
            " |-- Q019: string (nullable = true)\n",
            " |-- Q020: string (nullable = true)\n",
            " |-- Q021: string (nullable = true)\n",
            " |-- Q022: string (nullable = true)\n",
            " |-- Q023: string (nullable = true)\n",
            " |-- Q024: string (nullable = true)\n",
            " |-- Q025: string (nullable = true)\n",
            "\n"
          ]
        }
      ]
    },
    {
      "cell_type": "code",
      "source": [
        "# Exibindo o DataFrame\n",
        "print(\"DataFrame\")\n",
        "df.show()"
      ],
      "metadata": {
        "colab": {
          "base_uri": "https://localhost:8080/"
        },
        "id": "PFxKN_Z3D7fH",
        "outputId": "5de2792a-940a-4c7c-af70-a101831a1bb6"
      },
      "execution_count": 49,
      "outputs": [
        {
          "output_type": "stream",
          "name": "stdout",
          "text": [
            "DataFrame\n",
            "+------------+------+---------------+-------+---------------+-----------+----------------+---------------+---------------+---------+---------+------------+----------------+-------------------+---------+---------+----------------------+------------------+---------------+------------------+--------------------+-----------+-----------+--------------+--------------+--------------+--------------+-----------+-----------+-----------+-----------+----------+----------+----------+----------+--------------------+--------------------+--------------------+--------------------+---------+--------------------+--------------------+--------------------+--------------------+-----------------+-------------+-------------+-------------+-------------+-------------+---------------+----+----+----+----+----+----+----+----+----+----+----+----+----+----+----+----+----+----+----+----+----+----+----+----+----+\n",
            "|NU_INSCRICAO|NU_ANO|TP_FAIXA_ETARIA|TP_SEXO|TP_ESTADO_CIVIL|TP_COR_RACA|TP_NACIONALIDADE|TP_ST_CONCLUSAO|TP_ANO_CONCLUIU|TP_ESCOLA|TP_ENSINO|IN_TREINEIRO|CO_MUNICIPIO_ESC|   NO_MUNICIPIO_ESC|CO_UF_ESC|SG_UF_ESC|TP_DEPENDENCIA_ADM_ESC|TP_LOCALIZACAO_ESC|TP_SIT_FUNC_ESC|CO_MUNICIPIO_PROVA|  NO_MUNICIPIO_PROVA|CO_UF_PROVA|SG_UF_PROVA|TP_PRESENCA_CN|TP_PRESENCA_CH|TP_PRESENCA_LC|TP_PRESENCA_MT|CO_PROVA_CN|CO_PROVA_CH|CO_PROVA_LC|CO_PROVA_MT|NU_NOTA_CN|NU_NOTA_CH|NU_NOTA_LC|NU_NOTA_MT|     TX_RESPOSTAS_CN|     TX_RESPOSTAS_CH|     TX_RESPOSTAS_LC|     TX_RESPOSTAS_MT|TP_LINGUA|      TX_GABARITO_CN|      TX_GABARITO_CH|      TX_GABARITO_LC|      TX_GABARITO_MT|TP_STATUS_REDACAO|NU_NOTA_COMP1|NU_NOTA_COMP2|NU_NOTA_COMP3|NU_NOTA_COMP4|NU_NOTA_COMP5|NU_NOTA_REDACAO|Q001|Q002|Q003|Q004|Q005|Q006|Q007|Q008|Q009|Q010|Q011|Q012|Q013|Q014|Q015|Q016|Q017|Q018|Q019|Q020|Q021|Q022|Q023|Q024|Q025|\n",
            "+------------+------+---------------+-------+---------------+-----------+----------------+---------------+---------------+---------+---------+------------+----------------+-------------------+---------+---------+----------------------+------------------+---------------+------------------+--------------------+-----------+-----------+--------------+--------------+--------------+--------------+-----------+-----------+-----------+-----------+----------+----------+----------+----------+--------------------+--------------------+--------------------+--------------------+---------+--------------------+--------------------+--------------------+--------------------+-----------------+-------------+-------------+-------------+-------------+-------------+---------------+----+----+----+----+----+----+----+----+----+----+----+----+----+----+----+----+----+----+----+----+----+----+----+----+----+\n",
            "|200006271946|  2020|             11|      F|              1|          2|               1|              1|             11|        1|     null|           0|            null|               null|     null|     null|                  null|              null|           null|           1501402|               Bel�m|         15|         PA|             0|             0|             0|             0|       null|       null|       null|       null|      null|      null|      null|      null|                null|                null|                null|                null|        1|                null|                null|                null|                null|             null|         null|         null|         null|         null|         null|           null|null|null|null|null|null|null|null|null|null|null|null|null|null|null|null|null|null|null|null|null|null|null|null|null|null|\n",
            "|200001195856|  2020|             11|      M|              2|          3|               1|              1|             11|        1|     null|           0|            null|               null|     null|     null|                  null|              null|           null|           2408102|               Natal|         24|         RN|             1|             1|             1|             1|        702|        689|        693|        698|     604.1|     661.7|     595.3|     711.3|BCBDBDCCCDBDDBADE...|BCAECABCDCEBDBBBD...|99999CADDEDADBAAB...|EBEBDEDAECBADCADD...|        1|ABBACBCCCDDDDBAEE...|BCEECDBCCDEBDBBBB...|99999CBDDEDBDBACE...|BBEADECAECBBXCEBA...|                1|          120|          120|          120|          120|          100|            580|null|null|null|null|null|null|null|null|null|null|null|null|null|null|null|null|null|null|null|null|null|null|null|null|null|\n",
            "|200001943954|  2020|              4|      F|              2|          3|               2|              2|              0|        2|        1|           0|         2927408|           Salvador|       29|       BA|                     2|                 1|              1|           2927408|            Salvador|         29|         BA|             0|             0|             0|             0|       null|       null|       null|       null|      null|      null|      null|      null|                null|                null|                null|                null|        0|                null|                null|                null|                null|             null|         null|         null|         null|         null|         null|           null|   B|   C|   A|   D|   3|   B|   A|   B|   A|   A|   A|   B|   A|   B|   A|   B|   A|   A|   B|   A|   A|   A|   A|   A|   A|\n",
            "|200001908998|  2020|              2|      M|              1|          3|               1|              2|              0|        2|        1|           0|         3547304|Santana de Parna�ba|       35|       SP|                     3|                 1|              1|           3547304| Santana de Parna�ba|         35|         SP|             1|             1|             1|             1|        700|        688|        692|        696|     620.8|     675.0|     624.2|     759.4|EBEDCCCDCBDBAECAE...|DABCCACCBCCDCADBD...|DCEAB99999AADAECC...|CBDBDCCDDEECBAABB...|        0|BDECCACBEBDEAEDAE...|DABCCAECBABECADBD...|DCEAD99999AADACCC...|EBDBXCCDAEECBAABA...|                1|          140|          200|          140|          120|          160|            760|null|null|null|null|null|null|null|null|null|null|null|null|null|null|null|null|null|null|null|null|null|null|null|null|null|\n",
            "|200001634757|  2020|              4|      F|              1|          3|               2|              1|              1|        1|     null|           0|            null|               null|     null|     null|                  null|              null|           null|           3121605|          Diamantina|         31|         MG|             0|             0|             0|             0|       null|       null|       null|       null|      null|      null|      null|      null|                null|                null|                null|                null|        1|                null|                null|                null|                null|             null|         null|         null|         null|         null|         null|           null|   B|   G|   B|   B|   3|   B|   A|   B|   D|   A|   A|   B|   A|   B|   A|   A|   A|   A|   B|   A|   B|   B|   A|   A|   B|\n",
            "|200003132410|  2020|              3|      F|              1|          3|               1|              1|              1|        1|     null|           0|            null|               null|     null|     null|                  null|              null|           null|           4305207|         Cerro Largo|         43|         RS|             1|             1|             1|             1|        598|        567|        577|        588|     498.1|     604.7|     505.4|     526.7|CABBEEACAEBEBCCDA...|ACEBBDDCADDAACEEA...|99999CBECEBEDBEEC...|BADCAAAEEDBEDBACE...|        1|CEDBDDDCACCBDAEBA...|DABCBDDDAEDBECECB...|AAEDCACEEECEAACBA...|AEBCCXCCCACCDABCC...|                1|          140|          120|          140|          140|          160|            700|   C|   B|   C|   B|   5|   C|   A|   B|   E|   A|   A|   B|   A|   A|   A|   B|   A|   A|   B|   B|   A|   D|   A|   B|   B|\n",
            "|200001379770|  2020|              9|      M|              1|          3|               1|              1|              6|        1|     null|           0|            null|               null|     null|     null|                  null|              null|           null|           2611606|              Recife|         26|         PE|             0|             0|             0|             0|       null|       null|       null|       null|      null|      null|      null|      null|                null|                null|                null|                null|        0|                null|                null|                null|                null|             null|         null|         null|         null|         null|         null|           null|null|null|null|null|null|null|null|null|null|null|null|null|null|null|null|null|null|null|null|null|null|null|null|null|null|\n",
            "|200001334237|  2020|              4|      M|              1|          1|               1|              1|              1|        1|     null|           0|            null|               null|     null|     null|                  null|              null|           null|           3550308|           S�o Paulo|         35|         SP|             1|             1|             1|             1|        699|        687|        691|        695|     604.6|     604.8|     562.1|     753.2|CECACBBCADACADDEE...|EAADABBEABCADDBAA...|CADDE99999AEEADBA...|BABADDBDAEBAEBBBE...|        0|DEAAECBBCDCBAEBEE...|EAAADBBEDBDACDBCC...|CADDE99999DEBBBBB...|BABBDABAEEBACBACD...|                1|          140|          120|          120|          120|          100|            600|null|null|null|null|null|null|null|null|null|null|null|null|null|null|null|null|null|null|null|null|null|null|null|null|null|\n",
            "|200006762554|  2020|              5|      F|              2|          3|               1|              1|              3|        1|     null|           0|            null|               null|     null|     null|                  null|              null|           null|           2507507|         Jo�o Pessoa|         25|         PB|             1|             1|             1|             1|        598|        567|        577|        588|     439.7|     383.5|     486.2|     448.5|DABCDCAEDEDCBEDCD...|ECCAEAEACDDABCBDA...|99999DDCBBABECCAC...|EEDCCEACEBAAAADCD...|        1|CEDBDDDCACCBDAEBA...|DABCBDDDAEDBECECB...|AAEDCACEEECEAACBA...|AEBCCXCCCACCDABCC...|                1|          120|          120|          120|          140|          100|            600|   B|   C|   C|   B|   2|   B|   A|   B|   C|   A|   A|   B|   A|   B|   A|   A|   A|   A|   B|   A|   A|   C|   A|   A|   A|\n",
            "|200005146210|  2020|              2|      M|              1|          2|               1|              2|              0|        2|        1|           0|            null|               null|     null|     null|                  null|              null|           null|           2304400|           Fortaleza|         23|         CE|             0|             0|             0|             0|       null|       null|       null|       null|      null|      null|      null|      null|                null|                null|                null|                null|        0|                null|                null|                null|                null|             null|         null|         null|         null|         null|         null|           null|   A|   A|   B|   A|   4|   B|   A|   B|   B|   A|   A|   B|   A|   A|   A|   A|   A|   A|   B|   A|   A|   A|   A|   A|   B|\n",
            "|200004902048|  2020|              6|      M|              1|          1|               1|              1|              3|        1|     null|           0|            null|               null|     null|     null|                  null|              null|           null|           3550308|           S�o Paulo|         35|         SP|             0|             0|             0|             0|       null|       null|       null|       null|      null|      null|      null|      null|                null|                null|                null|                null|        0|                null|                null|                null|                null|             null|         null|         null|         null|         null|         null|           null|   B|   B|   B|   B|   7|   B|   A|   B|   C|   A|   A|   B|   A|   A|   A|   B|   A|   A|   B|   A|   A|   C|   B|   B|   B|\n",
            "|200006138472|  2020|              7|      M|              1|          1|               1|              1|              0|        1|     null|           0|            null|               null|     null|     null|                  null|              null|           null|           2910727|           Eun�polis|         29|         BA|             1|             1|             1|             1|        598|        567|        577|        588|     491.1|     631.4|     627.9|     546.5|BAEACEDBACDDEDECE...|CDEABDDDABDBEABCA...|AACDC99999ABDBEDA...|EBCDBEBABDBBDABCB...|        0|CEDBDDDCACCBDAEBA...|DABCBDDDAEDBECECB...|AAEDCACEEECEAACBA...|AEBCCXCCCACCDABCC...|                1|          140|          120|          140|          120|          120|            640|   B|   C|   C|   B|   5|   B|   A|   B|   C|   A|   A|   B|   A|   A|   A|   A|   B|   A|   B|   A|   A|   C|   A|   B|   B|\n",
            "|200005613689|  2020|              3|      F|              1|          3|               1|              1|              1|        1|     null|           0|            null|               null|     null|     null|                  null|              null|           null|           5008305|         Tr�s Lagoas|         50|         MS|             0|             0|             0|             0|       null|       null|       null|       null|      null|      null|      null|      null|                null|                null|                null|                null|        0|                null|                null|                null|                null|             null|         null|         null|         null|         null|         null|           null|   D|   E|   A|   A|   3|   B|   A|   B|   C|   A|   A|   B|   A|   A|   A|   A|   A|   A|   A|   A|   A|   C|   A|   A|   A|\n",
            "|200004833505|  2020|             11|      F|              2|          2|               1|              1|             12|        1|     null|           0|            null|               null|     null|     null|                  null|              null|           null|           3547809|         Santo Andr�|         35|         SP|             0|             0|             0|             0|       null|       null|       null|       null|      null|      null|      null|      null|                null|                null|                null|                null|        1|                null|                null|                null|                null|             null|         null|         null|         null|         null|         null|           null|null|null|null|null|null|null|null|null|null|null|null|null|null|null|null|null|null|null|null|null|null|null|null|null|null|\n",
            "|200004570764|  2020|             11|      M|              1|          2|               1|              1|              0|        1|     null|           0|            null|               null|     null|     null|                  null|              null|           null|           2604007|             Carpina|         26|         PE|             0|             0|             0|             0|       null|       null|       null|       null|      null|      null|      null|      null|                null|                null|                null|                null|        1|                null|                null|                null|                null|             null|         null|         null|         null|         null|         null|           null|   H|   B|   F|   B|   3|   B|   A|   C|   D|   A|   A|   B|   A|   A|   A|   A|   A|   A|   B|   A|   A|   B|   A|   B|   B|\n",
            "|200001071590|  2020|              5|      F|              1|          3|               1|              1|              0|        1|     null|           0|            null|               null|     null|     null|                  null|              null|           null|           2800308|             Aracaju|         28|         SE|             0|             0|             0|             0|       null|       null|       null|       null|      null|      null|      null|      null|                null|                null|                null|                null|        1|                null|                null|                null|                null|             null|         null|         null|         null|         null|         null|           null|null|null|null|null|null|null|null|null|null|null|null|null|null|null|null|null|null|null|null|null|null|null|null|null|null|\n",
            "|200001934470|  2020|              7|      F|              1|          3|               1|              1|              4|        1|     null|           0|            null|               null|     null|     null|                  null|              null|           null|           2933307|Vit�ria da Conquista|         29|         BA|             0|             0|             0|             0|       null|       null|       null|       null|      null|      null|      null|      null|                null|                null|                null|                null|        1|                null|                null|                null|                null|             null|         null|         null|         null|         null|         null|           null|   A|   B|   F|   F|   3|   B|   A|   B|   C|   A|   A|   B|   B|   A|   A|   A|   A|   A|   B|   A|   A|   C|   A|   B|   B|\n",
            "|200006066678|  2020|              4|      M|              1|          1|               1|              1|              1|        1|     null|           0|            null|               null|     null|     null|                  null|              null|           null|           4106902|            Curitiba|         41|         PR|             0|             0|             0|             0|       null|       null|       null|       null|      null|      null|      null|      null|                null|                null|                null|                null|        0|                null|                null|                null|                null|             null|         null|         null|         null|         null|         null|           null|null|null|null|null|null|null|null|null|null|null|null|null|null|null|null|null|null|null|null|null|null|null|null|null|null|\n",
            "|200003343448|  2020|              7|      F|              1|          3|               1|              1|              3|        1|     null|           0|            null|               null|     null|     null|                  null|              null|           null|           2704302|              Macei�|         27|         AL|             1|             1|             1|             1|        597|        569|        580|        587|     422.4|     488.1|     559.1|     420.3|BDCEDABCECACBDCBB...|CAEADAEEDEDBDDCAB...|CADAA99999ABCBEBD...|BBCCDBEADABBE*CED...|        0|DDBACBDDDECDAEDCC...|DECCADEBDECBBECDD...|DCEAAEEEACAACBBEB...|DABCCAEDBBCCCABCA...|                1|          140|          180|          140|          160|          180|            800|   C|   C|   C|   B|   2|   B|   A|   B|   C|   A|   A|   B|   A|   A|   A|   A|   A|   A|   B|   B|   A|   C|   A|   B|   B|\n",
            "|200005966328|  2020|             13|      M|              1|          2|               1|              1|              0|        1|     null|           0|            null|               null|     null|     null|                  null|              null|           null|           1501402|               Bel�m|         15|         PA|             1|             1|             1|             1|        600|        570|        579|        589|     486.0|     503.3|     439.8|     405.6|DBEBBBCCDCBCAEBAE...|BABAEABBEDBDCDBBE...|99999EAADBDAABCBD...|BBAADDCCEABAAEBBA...|        1|DCDXDCCAEBADCBAAE...|BDDBECECBACDBDEEB...|AACDEEEECADBBCAAA...|BAECDBBXCCCBDBACC...|                1|          100|          100|          120|          100|           80|            500|   C|   D|   C|   C|   5|   D|   A|   C|   C|   A|   A|   B|   A|   A|   A|   A|   A|   A|   B|   B|   A|   C|   A|   A|   A|\n",
            "+------------+------+---------------+-------+---------------+-----------+----------------+---------------+---------------+---------+---------+------------+----------------+-------------------+---------+---------+----------------------+------------------+---------------+------------------+--------------------+-----------+-----------+--------------+--------------+--------------+--------------+-----------+-----------+-----------+-----------+----------+----------+----------+----------+--------------------+--------------------+--------------------+--------------------+---------+--------------------+--------------------+--------------------+--------------------+-----------------+-------------+-------------+-------------+-------------+-------------+---------------+----+----+----+----+----+----+----+----+----+----+----+----+----+----+----+----+----+----+----+----+----+----+----+----+----+\n",
            "only showing top 20 rows\n",
            "\n"
          ]
        }
      ]
    },
    {
      "cell_type": "code",
      "source": [
        "#Filtrar colunas que eu quero trabalhar\n",
        "df_fato = df.select('NU_INSCRICAO','NU_ANO','TP_FAIXA_ETARIA','TP_SEXO','TP_COR_RACA','TP_ESCOLA','TP_PRESENCA_CN','TP_PRESENCA_CH','TP_PRESENCA_LC','TP_PRESENCA_MT','NU_NOTA_CN','NU_NOTA_CH','NU_NOTA_LC','NU_NOTA_MT')"
      ],
      "metadata": {
        "id": "4TNCx1etSEgZ"
      },
      "execution_count": 56,
      "outputs": []
    },
    {
      "cell_type": "code",
      "source": [
        "#Mostra df fato\n",
        "df_fato.show()"
      ],
      "metadata": {
        "colab": {
          "base_uri": "https://localhost:8080/"
        },
        "collapsed": true,
        "id": "WZLnqQ9eWOLl",
        "outputId": "80e4e5a8-b1c2-4444-b6a9-ec5fc83a1e83"
      },
      "execution_count": 57,
      "outputs": [
        {
          "output_type": "stream",
          "name": "stdout",
          "text": [
            "+------------+------+---------------+-------+-----------+---------+--------------+--------------+--------------+--------------+----------+----------+----------+----------+\n",
            "|NU_INSCRICAO|NU_ANO|TP_FAIXA_ETARIA|TP_SEXO|TP_COR_RACA|TP_ESCOLA|TP_PRESENCA_CN|TP_PRESENCA_CH|TP_PRESENCA_LC|TP_PRESENCA_MT|NU_NOTA_CN|NU_NOTA_CH|NU_NOTA_LC|NU_NOTA_MT|\n",
            "+------------+------+---------------+-------+-----------+---------+--------------+--------------+--------------+--------------+----------+----------+----------+----------+\n",
            "|200006271946|  2020|             11|      F|          2|        1|             0|             0|             0|             0|      null|      null|      null|      null|\n",
            "|200001195856|  2020|             11|      M|          3|        1|             1|             1|             1|             1|     604.1|     661.7|     595.3|     711.3|\n",
            "|200001943954|  2020|              4|      F|          3|        2|             0|             0|             0|             0|      null|      null|      null|      null|\n",
            "|200001908998|  2020|              2|      M|          3|        2|             1|             1|             1|             1|     620.8|     675.0|     624.2|     759.4|\n",
            "|200001634757|  2020|              4|      F|          3|        1|             0|             0|             0|             0|      null|      null|      null|      null|\n",
            "|200003132410|  2020|              3|      F|          3|        1|             1|             1|             1|             1|     498.1|     604.7|     505.4|     526.7|\n",
            "|200001379770|  2020|              9|      M|          3|        1|             0|             0|             0|             0|      null|      null|      null|      null|\n",
            "|200001334237|  2020|              4|      M|          1|        1|             1|             1|             1|             1|     604.6|     604.8|     562.1|     753.2|\n",
            "|200006762554|  2020|              5|      F|          3|        1|             1|             1|             1|             1|     439.7|     383.5|     486.2|     448.5|\n",
            "|200005146210|  2020|              2|      M|          2|        2|             0|             0|             0|             0|      null|      null|      null|      null|\n",
            "|200004902048|  2020|              6|      M|          1|        1|             0|             0|             0|             0|      null|      null|      null|      null|\n",
            "|200006138472|  2020|              7|      M|          1|        1|             1|             1|             1|             1|     491.1|     631.4|     627.9|     546.5|\n",
            "|200005613689|  2020|              3|      F|          3|        1|             0|             0|             0|             0|      null|      null|      null|      null|\n",
            "|200004833505|  2020|             11|      F|          2|        1|             0|             0|             0|             0|      null|      null|      null|      null|\n",
            "|200004570764|  2020|             11|      M|          2|        1|             0|             0|             0|             0|      null|      null|      null|      null|\n",
            "|200001071590|  2020|              5|      F|          3|        1|             0|             0|             0|             0|      null|      null|      null|      null|\n",
            "|200001934470|  2020|              7|      F|          3|        1|             0|             0|             0|             0|      null|      null|      null|      null|\n",
            "|200006066678|  2020|              4|      M|          1|        1|             0|             0|             0|             0|      null|      null|      null|      null|\n",
            "|200003343448|  2020|              7|      F|          3|        1|             1|             1|             1|             1|     422.4|     488.1|     559.1|     420.3|\n",
            "|200005966328|  2020|             13|      M|          2|        1|             1|             1|             1|             1|     486.0|     503.3|     439.8|     405.6|\n",
            "+------------+------+---------------+-------+-----------+---------+--------------+--------------+--------------+--------------+----------+----------+----------+----------+\n",
            "only showing top 20 rows\n",
            "\n"
          ]
        }
      ]
    },
    {
      "cell_type": "code",
      "source": [
        "# Criando  dimensão para faixa etária\n",
        "df_faixa_data = [\n",
        "    (1, \"Menor de 17 anos\"),\n",
        "    (2, \"17 anos\"),\n",
        "    (3, \"18 anos\"),\n",
        "    (4, \"19 anos\"),\n",
        "    (5, \"20 anos\"),\n",
        "    (6, \"21 anos\"),\n",
        "    (7, \"22 anos\"),\n",
        "    (8, \"23 anos\"),\n",
        "    (9, \"24 anos\"),\n",
        "    (10, \"25 anos\"),\n",
        "    (11, \"Entre 26 e 30 anos\"),\n",
        "    (12, \"Entre 31 e 35 anos\"),\n",
        "    (13, \"Entre 36 e 40 anos\"),\n",
        "    (14, \"Entre 41 e 45 anos\"),\n",
        "    (15, \"Entre 46 e 50 anos\"),\n",
        "    (16, \"Entre 51 e 55 anos\"),\n",
        "    (17, \"Entre 56 e 60 anos\"),\n",
        "    (18, \"Entre 61 e 65 anos\"),\n",
        "    (19, \"Entre 66 e 70 anos\"),\n",
        "    (20, \"Maior de 70 anos\")\n",
        "]\n",
        "\n",
        "schema_faixa = StructType([\n",
        "    StructField(\"TP_FAIXA_ETARIA\", IntegerType(), True),\n",
        "    StructField(\"DESC_FAIXA_ETARIA\", StringType(), True)\n",
        "])"
      ],
      "metadata": {
        "id": "se_ZKLaYaCcc"
      },
      "execution_count": 62,
      "outputs": []
    },
    {
      "cell_type": "code",
      "source": [
        "df_faixa_etaria = spark.createDataFrame(df_faixa_data, schema=schema_faixa)"
      ],
      "metadata": {
        "id": "3g5G1YGRaO_T"
      },
      "execution_count": 64,
      "outputs": []
    },
    {
      "cell_type": "code",
      "source": [
        "# Exibindo a dimensão de faixa etária\n",
        "print(\"Dimensão: Faixa Etária\")\n",
        "df_faixa_etaria.show()"
      ],
      "metadata": {
        "collapsed": true,
        "colab": {
          "base_uri": "https://localhost:8080/"
        },
        "id": "FoQU_AmravdL",
        "outputId": "3fc86b01-6861-46b9-f52f-a7136a7861d7"
      },
      "execution_count": 65,
      "outputs": [
        {
          "output_type": "stream",
          "name": "stdout",
          "text": [
            "Dimensão: Faixa Etária\n",
            "+---------------+------------------+\n",
            "|TP_FAIXA_ETARIA| DESC_FAIXA_ETARIA|\n",
            "+---------------+------------------+\n",
            "|              1|  Menor de 17 anos|\n",
            "|              2|           17 anos|\n",
            "|              3|           18 anos|\n",
            "|              4|           19 anos|\n",
            "|              5|           20 anos|\n",
            "|              6|           21 anos|\n",
            "|              7|           22 anos|\n",
            "|              8|           23 anos|\n",
            "|              9|           24 anos|\n",
            "|             10|           25 anos|\n",
            "|             11|Entre 26 e 30 anos|\n",
            "|             12|Entre 31 e 35 anos|\n",
            "|             13|Entre 36 e 40 anos|\n",
            "|             14|Entre 41 e 45 anos|\n",
            "|             15|Entre 46 e 50 anos|\n",
            "|             16|Entre 51 e 55 anos|\n",
            "|             17|Entre 56 e 60 anos|\n",
            "|             18|Entre 61 e 65 anos|\n",
            "|             19|Entre 66 e 70 anos|\n",
            "|             20|  Maior de 70 anos|\n",
            "+---------------+------------------+\n",
            "\n"
          ]
        }
      ]
    },
    {
      "cell_type": "code",
      "source": [
        "# Realizando o join entre o fato e a dimensão\n",
        "df_fato_com_dim = df_fato.join(df_faixa_etaria, on=\"TP_FAIXA_ETARIA\", how=\"left\")"
      ],
      "metadata": {
        "id": "wF6S_wDpa0LD"
      },
      "execution_count": 66,
      "outputs": []
    },
    {
      "cell_type": "code",
      "source": [
        "print(\"Fato com dimensão de Faixa Etária\")\n",
        "df_fato_com_dim.show()"
      ],
      "metadata": {
        "colab": {
          "base_uri": "https://localhost:8080/"
        },
        "collapsed": true,
        "id": "Ej9agnPYa4Uc",
        "outputId": "9184d470-41fc-46c1-a4dc-2d81fe983bbc"
      },
      "execution_count": 67,
      "outputs": [
        {
          "output_type": "stream",
          "name": "stdout",
          "text": [
            "Fato com dimensão de Faixa Etária\n",
            "+---------------+------------+------+-------+-----------+---------+--------------+--------------+--------------+--------------+----------+----------+----------+----------+------------------+\n",
            "|TP_FAIXA_ETARIA|NU_INSCRICAO|NU_ANO|TP_SEXO|TP_COR_RACA|TP_ESCOLA|TP_PRESENCA_CN|TP_PRESENCA_CH|TP_PRESENCA_LC|TP_PRESENCA_MT|NU_NOTA_CN|NU_NOTA_CH|NU_NOTA_LC|NU_NOTA_MT| DESC_FAIXA_ETARIA|\n",
            "+---------------+------------+------+-------+-----------+---------+--------------+--------------+--------------+--------------+----------+----------+----------+----------+------------------+\n",
            "|             13|200005966328|  2020|      M|          2|        1|             1|             1|             1|             1|     486.0|     503.3|     439.8|     405.6|Entre 36 e 40 anos|\n",
            "|              6|200004902048|  2020|      M|          1|        1|             0|             0|             0|             0|      null|      null|      null|      null|           21 anos|\n",
            "|              3|200003132410|  2020|      F|          3|        1|             1|             1|             1|             1|     498.1|     604.7|     505.4|     526.7|           18 anos|\n",
            "|              3|200005613689|  2020|      F|          3|        1|             0|             0|             0|             0|      null|      null|      null|      null|           18 anos|\n",
            "|              5|200006762554|  2020|      F|          3|        1|             1|             1|             1|             1|     439.7|     383.5|     486.2|     448.5|           20 anos|\n",
            "|              5|200001071590|  2020|      F|          3|        1|             0|             0|             0|             0|      null|      null|      null|      null|           20 anos|\n",
            "|              9|200001379770|  2020|      M|          3|        1|             0|             0|             0|             0|      null|      null|      null|      null|           24 anos|\n",
            "|              4|200001943954|  2020|      F|          3|        2|             0|             0|             0|             0|      null|      null|      null|      null|           19 anos|\n",
            "|              4|200001634757|  2020|      F|          3|        1|             0|             0|             0|             0|      null|      null|      null|      null|           19 anos|\n",
            "|              4|200001334237|  2020|      M|          1|        1|             1|             1|             1|             1|     604.6|     604.8|     562.1|     753.2|           19 anos|\n",
            "|              4|200006066678|  2020|      M|          1|        1|             0|             0|             0|             0|      null|      null|      null|      null|           19 anos|\n",
            "|              7|200006138472|  2020|      M|          1|        1|             1|             1|             1|             1|     491.1|     631.4|     627.9|     546.5|           22 anos|\n",
            "|              7|200001934470|  2020|      F|          3|        1|             0|             0|             0|             0|      null|      null|      null|      null|           22 anos|\n",
            "|              7|200003343448|  2020|      F|          3|        1|             1|             1|             1|             1|     422.4|     488.1|     559.1|     420.3|           22 anos|\n",
            "|             10|200002523760|  2020|      M|          3|        1|             0|             0|             0|             0|      null|      null|      null|      null|           25 anos|\n",
            "|             11|200006271946|  2020|      F|          2|        1|             0|             0|             0|             0|      null|      null|      null|      null|Entre 26 e 30 anos|\n",
            "|             11|200001195856|  2020|      M|          3|        1|             1|             1|             1|             1|     604.1|     661.7|     595.3|     711.3|Entre 26 e 30 anos|\n",
            "|             11|200004833505|  2020|      F|          2|        1|             0|             0|             0|             0|      null|      null|      null|      null|Entre 26 e 30 anos|\n",
            "|             11|200004570764|  2020|      M|          2|        1|             0|             0|             0|             0|      null|      null|      null|      null|Entre 26 e 30 anos|\n",
            "|              2|200001908998|  2020|      M|          3|        2|             1|             1|             1|             1|     620.8|     675.0|     624.2|     759.4|           17 anos|\n",
            "+---------------+------------+------+-------+-----------+---------+--------------+--------------+--------------+--------------+----------+----------+----------+----------+------------------+\n",
            "only showing top 20 rows\n",
            "\n"
          ]
        }
      ]
    },
    {
      "cell_type": "code",
      "source": [
        "# Criação do DataFrame de dimensão para TP_SEXO\n",
        "sexo_data = [\n",
        "    (\"M\", \"Masculino\"),\n",
        "    (\"F\", \"Feminino\")\n",
        "]\n",
        "\n",
        "schema_sexo = StructType([\n",
        "    StructField(\"TP_SEXO\", StringType(), True),\n",
        "    StructField(\"DESC_SEXO\", StringType(), True)\n",
        "])\n",
        "\n",
        "df_sexo = spark.createDataFrame(sexo_data, schema=schema_sexo)\n"
      ],
      "metadata": {
        "id": "m_qDAv4nboRM"
      },
      "execution_count": 68,
      "outputs": []
    },
    {
      "cell_type": "code",
      "source": [
        "# Realizando o join entre o fato e a dimensão de TP_SEXO\n",
        "df_fato_com_sexo = df_fato.join(df_sexo, on=\"TP_SEXO\", how=\"left\")"
      ],
      "metadata": {
        "id": "ExeiAH9cbuB1"
      },
      "execution_count": 69,
      "outputs": []
    },
    {
      "cell_type": "code",
      "source": [
        "print(\"Fato com dimensão de TP_SEXO\")\n",
        "df_fato_com_sexo.show()"
      ],
      "metadata": {
        "colab": {
          "base_uri": "https://localhost:8080/"
        },
        "collapsed": true,
        "id": "RNksQ2XKb2ZD",
        "outputId": "5fa92537-3e1b-4667-e8bb-257f392fa45f"
      },
      "execution_count": 70,
      "outputs": [
        {
          "output_type": "stream",
          "name": "stdout",
          "text": [
            "Fato com dimensão de TP_SEXO\n",
            "+-------+------------+------+---------------+-----------+---------+--------------+--------------+--------------+--------------+----------+----------+----------+----------+---------+\n",
            "|TP_SEXO|NU_INSCRICAO|NU_ANO|TP_FAIXA_ETARIA|TP_COR_RACA|TP_ESCOLA|TP_PRESENCA_CN|TP_PRESENCA_CH|TP_PRESENCA_LC|TP_PRESENCA_MT|NU_NOTA_CN|NU_NOTA_CH|NU_NOTA_LC|NU_NOTA_MT|DESC_SEXO|\n",
            "+-------+------------+------+---------------+-----------+---------+--------------+--------------+--------------+--------------+----------+----------+----------+----------+---------+\n",
            "|      F|200006271946|  2020|             11|          2|        1|             0|             0|             0|             0|      null|      null|      null|      null| Feminino|\n",
            "|      F|200001943954|  2020|              4|          3|        2|             0|             0|             0|             0|      null|      null|      null|      null| Feminino|\n",
            "|      F|200001634757|  2020|              4|          3|        1|             0|             0|             0|             0|      null|      null|      null|      null| Feminino|\n",
            "|      F|200003132410|  2020|              3|          3|        1|             1|             1|             1|             1|     498.1|     604.7|     505.4|     526.7| Feminino|\n",
            "|      F|200006762554|  2020|              5|          3|        1|             1|             1|             1|             1|     439.7|     383.5|     486.2|     448.5| Feminino|\n",
            "|      F|200005613689|  2020|              3|          3|        1|             0|             0|             0|             0|      null|      null|      null|      null| Feminino|\n",
            "|      F|200004833505|  2020|             11|          2|        1|             0|             0|             0|             0|      null|      null|      null|      null| Feminino|\n",
            "|      F|200001071590|  2020|              5|          3|        1|             0|             0|             0|             0|      null|      null|      null|      null| Feminino|\n",
            "|      F|200001934470|  2020|              7|          3|        1|             0|             0|             0|             0|      null|      null|      null|      null| Feminino|\n",
            "|      F|200003343448|  2020|              7|          3|        1|             1|             1|             1|             1|     422.4|     488.1|     559.1|     420.3| Feminino|\n",
            "|      M|200001195856|  2020|             11|          3|        1|             1|             1|             1|             1|     604.1|     661.7|     595.3|     711.3|Masculino|\n",
            "|      M|200001908998|  2020|              2|          3|        2|             1|             1|             1|             1|     620.8|     675.0|     624.2|     759.4|Masculino|\n",
            "|      M|200001379770|  2020|              9|          3|        1|             0|             0|             0|             0|      null|      null|      null|      null|Masculino|\n",
            "|      M|200001334237|  2020|              4|          1|        1|             1|             1|             1|             1|     604.6|     604.8|     562.1|     753.2|Masculino|\n",
            "|      M|200005146210|  2020|              2|          2|        2|             0|             0|             0|             0|      null|      null|      null|      null|Masculino|\n",
            "|      M|200004902048|  2020|              6|          1|        1|             0|             0|             0|             0|      null|      null|      null|      null|Masculino|\n",
            "|      M|200006138472|  2020|              7|          1|        1|             1|             1|             1|             1|     491.1|     631.4|     627.9|     546.5|Masculino|\n",
            "|      M|200004570764|  2020|             11|          2|        1|             0|             0|             0|             0|      null|      null|      null|      null|Masculino|\n",
            "|      M|200006066678|  2020|              4|          1|        1|             0|             0|             0|             0|      null|      null|      null|      null|Masculino|\n",
            "|      M|200005966328|  2020|             13|          2|        1|             1|             1|             1|             1|     486.0|     503.3|     439.8|     405.6|Masculino|\n",
            "+-------+------------+------+---------------+-----------+---------+--------------+--------------+--------------+--------------+----------+----------+----------+----------+---------+\n",
            "only showing top 20 rows\n",
            "\n"
          ]
        }
      ]
    },
    {
      "cell_type": "code",
      "source": [
        "# Criação do DataFrame de dimensão para TP_COR_RACA\n",
        "cor_raca_data = [\n",
        "    (0, \"Não declarado\"),\n",
        "    (1, \"Branca\"),\n",
        "    (2, \"Preta\"),\n",
        "    (3, \"Parda\"),\n",
        "    (4, \"Amarela\"),\n",
        "    (5, \"Indígena\")\n",
        "]\n",
        "\n",
        "schema_cor_raca = StructType([\n",
        "    StructField(\"TP_COR_RACA\", IntegerType(), True),\n",
        "    StructField(\"DESC_COR_RACA\", StringType(), True)\n",
        "])\n",
        "\n",
        "df_cor_raca = spark.createDataFrame(cor_raca_data, schema=schema_cor_raca)\n"
      ],
      "metadata": {
        "id": "WcJDj3w9etl7"
      },
      "execution_count": 71,
      "outputs": []
    },
    {
      "cell_type": "code",
      "source": [
        "# Realizando o join entre o DataFrame fato e a dimensão de TP_COR_RACA\n",
        "df_fato_com_cor_raca = df_fato.join(df_cor_raca, on=\"TP_COR_RACA\", how=\"left\")\n",
        "\n",
        "# Exibindo o DataFrame fato enriquecido com a descrição da cor/raça\n",
        "print(\"Fato com dimensão de TP_COR_RACA\")\n",
        "df_fato_com_cor_raca.show()"
      ],
      "metadata": {
        "colab": {
          "base_uri": "https://localhost:8080/"
        },
        "id": "4-T7WGMUezMb",
        "outputId": "6d390e28-c3a1-4116-8b66-7e6f7e9ad9de"
      },
      "execution_count": 72,
      "outputs": [
        {
          "output_type": "stream",
          "name": "stdout",
          "text": [
            "Fato com dimensão de TP_COR_RACA\n",
            "+-----------+------------+------+---------------+-------+---------+--------------+--------------+--------------+--------------+----------+----------+----------+----------+-------------+\n",
            "|TP_COR_RACA|NU_INSCRICAO|NU_ANO|TP_FAIXA_ETARIA|TP_SEXO|TP_ESCOLA|TP_PRESENCA_CN|TP_PRESENCA_CH|TP_PRESENCA_LC|TP_PRESENCA_MT|NU_NOTA_CN|NU_NOTA_CH|NU_NOTA_LC|NU_NOTA_MT|DESC_COR_RACA|\n",
            "+-----------+------------+------+---------------+-------+---------+--------------+--------------+--------------+--------------+----------+----------+----------+----------+-------------+\n",
            "|          1|200001334237|  2020|              4|      M|        1|             1|             1|             1|             1|     604.6|     604.8|     562.1|     753.2|       Branca|\n",
            "|          1|200004902048|  2020|              6|      M|        1|             0|             0|             0|             0|      null|      null|      null|      null|       Branca|\n",
            "|          1|200006138472|  2020|              7|      M|        1|             1|             1|             1|             1|     491.1|     631.4|     627.9|     546.5|       Branca|\n",
            "|          1|200006066678|  2020|              4|      M|        1|             0|             0|             0|             0|      null|      null|      null|      null|       Branca|\n",
            "|          3|200001195856|  2020|             11|      M|        1|             1|             1|             1|             1|     604.1|     661.7|     595.3|     711.3|        Parda|\n",
            "|          3|200001943954|  2020|              4|      F|        2|             0|             0|             0|             0|      null|      null|      null|      null|        Parda|\n",
            "|          3|200001908998|  2020|              2|      M|        2|             1|             1|             1|             1|     620.8|     675.0|     624.2|     759.4|        Parda|\n",
            "|          3|200001634757|  2020|              4|      F|        1|             0|             0|             0|             0|      null|      null|      null|      null|        Parda|\n",
            "|          3|200003132410|  2020|              3|      F|        1|             1|             1|             1|             1|     498.1|     604.7|     505.4|     526.7|        Parda|\n",
            "|          3|200001379770|  2020|              9|      M|        1|             0|             0|             0|             0|      null|      null|      null|      null|        Parda|\n",
            "|          3|200006762554|  2020|              5|      F|        1|             1|             1|             1|             1|     439.7|     383.5|     486.2|     448.5|        Parda|\n",
            "|          3|200005613689|  2020|              3|      F|        1|             0|             0|             0|             0|      null|      null|      null|      null|        Parda|\n",
            "|          3|200001071590|  2020|              5|      F|        1|             0|             0|             0|             0|      null|      null|      null|      null|        Parda|\n",
            "|          3|200001934470|  2020|              7|      F|        1|             0|             0|             0|             0|      null|      null|      null|      null|        Parda|\n",
            "|          3|200003343448|  2020|              7|      F|        1|             1|             1|             1|             1|     422.4|     488.1|     559.1|     420.3|        Parda|\n",
            "|          3|200002523760|  2020|             10|      M|        1|             0|             0|             0|             0|      null|      null|      null|      null|        Parda|\n",
            "|          2|200006271946|  2020|             11|      F|        1|             0|             0|             0|             0|      null|      null|      null|      null|        Preta|\n",
            "|          2|200005146210|  2020|              2|      M|        2|             0|             0|             0|             0|      null|      null|      null|      null|        Preta|\n",
            "|          2|200004833505|  2020|             11|      F|        1|             0|             0|             0|             0|      null|      null|      null|      null|        Preta|\n",
            "|          2|200004570764|  2020|             11|      M|        1|             0|             0|             0|             0|      null|      null|      null|      null|        Preta|\n",
            "+-----------+------------+------+---------------+-------+---------+--------------+--------------+--------------+--------------+----------+----------+----------+----------+-------------+\n",
            "only showing top 20 rows\n",
            "\n"
          ]
        }
      ]
    },
    {
      "cell_type": "code",
      "source": [
        "presenca_data = [\n",
        "    (0, \"Faltou à prova\"),\n",
        "    (1, \"Presente na prova\"),\n",
        "    (2, \"Eliminado na prova\")\n",
        "]\n",
        "schema_presenca = StructType([\n",
        "    StructField(\"TP_PRESENCA\", IntegerType(), True),\n",
        "    StructField(\"DESC_PRESENCA\", StringType(), True)\n",
        "])\n",
        "df_presenca = spark.createDataFrame(presenca_data, schema=schema_presenca)\n"
      ],
      "metadata": {
        "id": "omLXpFBdmRKZ"
      },
      "execution_count": 74,
      "outputs": []
    },
    {
      "cell_type": "code",
      "source": [
        "# Cada coluna de presença, possui uma versão apontanddo para dimensao\n",
        "df_presenca_cn = df_presenca \\\n",
        "    .withColumnRenamed(\"TP_PRESENCA\", \"TP_PRESENCA_CN\") \\\n",
        "    .withColumnRenamed(\"DESC_PRESENCA\", \"DESC_PRESENCA_CN\")\n",
        "\n",
        "df_presenca_ch = df_presenca \\\n",
        "    .withColumnRenamed(\"TP_PRESENCA\", \"TP_PRESENCA_CH\") \\\n",
        "    .withColumnRenamed(\"DESC_PRESENCA\", \"DESC_PRESENCA_CH\")\n",
        "\n",
        "df_presenca_lc = df_presenca \\\n",
        "    .withColumnRenamed(\"TP_PRESENCA\", \"TP_PRESENCA_LC\") \\\n",
        "    .withColumnRenamed(\"DESC_PRESENCA\", \"DESC_PRESENCA_LC\")\n",
        "\n",
        "df_presenca_mt = df_presenca \\\n",
        "    .withColumnRenamed(\"TP_PRESENCA\", \"TP_PRESENCA_MT\") \\\n",
        "    .withColumnRenamed(\"DESC_PRESENCA\", \"DESC_PRESENCA_MT\")\n",
        "\n",
        "# Realizando os joins para adicionar a descrição de cada coluna\n",
        "df_fato_enriched = df_fato \\\n",
        "    .join(df_presenca_cn, df_fato[\"TP_PRESENCA_CN\"] == df_presenca_cn[\"TP_PRESENCA_CN\"], \"left\") \\\n",
        "    .join(df_presenca_ch, df_fato[\"TP_PRESENCA_CH\"] == df_presenca_ch[\"TP_PRESENCA_CH\"], \"left\") \\\n",
        "    .join(df_presenca_lc, df_fato[\"TP_PRESENCA_LC\"] == df_presenca_lc[\"TP_PRESENCA_LC\"], \"left\") \\\n",
        "    .join(df_presenca_mt, df_fato[\"TP_PRESENCA_MT\"] == df_presenca_mt[\"TP_PRESENCA_MT\"], \"left\")\n"
      ],
      "metadata": {
        "id": "Ygz4tKRmmYw3"
      },
      "execution_count": 75,
      "outputs": []
    },
    {
      "cell_type": "code",
      "source": [
        "# Exibindo o DataFrame fato enriquecido com as descrições de presença\n",
        "df_fato_enriched.show(truncate=False)"
      ],
      "metadata": {
        "colab": {
          "base_uri": "https://localhost:8080/"
        },
        "collapsed": true,
        "id": "-AqFvFRpmlo3",
        "outputId": "7b600d77-f904-482a-eea6-4b5b4079a725"
      },
      "execution_count": 76,
      "outputs": [
        {
          "output_type": "stream",
          "name": "stdout",
          "text": [
            "+------------+------+---------------+-------+-----------+---------+--------------+--------------+--------------+--------------+----------+----------+----------+----------+--------------+-----------------+--------------+-----------------+--------------+-----------------+--------------+-----------------+\n",
            "|NU_INSCRICAO|NU_ANO|TP_FAIXA_ETARIA|TP_SEXO|TP_COR_RACA|TP_ESCOLA|TP_PRESENCA_CN|TP_PRESENCA_CH|TP_PRESENCA_LC|TP_PRESENCA_MT|NU_NOTA_CN|NU_NOTA_CH|NU_NOTA_LC|NU_NOTA_MT|TP_PRESENCA_CN|DESC_PRESENCA_CN |TP_PRESENCA_CH|DESC_PRESENCA_CH |TP_PRESENCA_LC|DESC_PRESENCA_LC |TP_PRESENCA_MT|DESC_PRESENCA_MT |\n",
            "+------------+------+---------------+-------+-----------+---------+--------------+--------------+--------------+--------------+----------+----------+----------+----------+--------------+-----------------+--------------+-----------------+--------------+-----------------+--------------+-----------------+\n",
            "|200001195856|2020  |11             |M      |3          |1        |1             |1             |1             |1             |604.1     |661.7     |595.3     |711.3     |1             |Presente na prova|1             |Presente na prova|1             |Presente na prova|1             |Presente na prova|\n",
            "|200001908998|2020  |2              |M      |3          |2        |1             |1             |1             |1             |620.8     |675.0     |624.2     |759.4     |1             |Presente na prova|1             |Presente na prova|1             |Presente na prova|1             |Presente na prova|\n",
            "|200003132410|2020  |3              |F      |3          |1        |1             |1             |1             |1             |498.1     |604.7     |505.4     |526.7     |1             |Presente na prova|1             |Presente na prova|1             |Presente na prova|1             |Presente na prova|\n",
            "|200001334237|2020  |4              |M      |1          |1        |1             |1             |1             |1             |604.6     |604.8     |562.1     |753.2     |1             |Presente na prova|1             |Presente na prova|1             |Presente na prova|1             |Presente na prova|\n",
            "|200006762554|2020  |5              |F      |3          |1        |1             |1             |1             |1             |439.7     |383.5     |486.2     |448.5     |1             |Presente na prova|1             |Presente na prova|1             |Presente na prova|1             |Presente na prova|\n",
            "|200006138472|2020  |7              |M      |1          |1        |1             |1             |1             |1             |491.1     |631.4     |627.9     |546.5     |1             |Presente na prova|1             |Presente na prova|1             |Presente na prova|1             |Presente na prova|\n",
            "|200003343448|2020  |7              |F      |3          |1        |1             |1             |1             |1             |422.4     |488.1     |559.1     |420.3     |1             |Presente na prova|1             |Presente na prova|1             |Presente na prova|1             |Presente na prova|\n",
            "|200005966328|2020  |13             |M      |2          |1        |1             |1             |1             |1             |486.0     |503.3     |439.8     |405.6     |1             |Presente na prova|1             |Presente na prova|1             |Presente na prova|1             |Presente na prova|\n",
            "|200006271946|2020  |11             |F      |2          |1        |0             |0             |0             |0             |null      |null      |null      |null      |0             |Faltou à prova   |0             |Faltou à prova   |0             |Faltou à prova   |0             |Faltou à prova   |\n",
            "|200001943954|2020  |4              |F      |3          |2        |0             |0             |0             |0             |null      |null      |null      |null      |0             |Faltou à prova   |0             |Faltou à prova   |0             |Faltou à prova   |0             |Faltou à prova   |\n",
            "|200001634757|2020  |4              |F      |3          |1        |0             |0             |0             |0             |null      |null      |null      |null      |0             |Faltou à prova   |0             |Faltou à prova   |0             |Faltou à prova   |0             |Faltou à prova   |\n",
            "|200001379770|2020  |9              |M      |3          |1        |0             |0             |0             |0             |null      |null      |null      |null      |0             |Faltou à prova   |0             |Faltou à prova   |0             |Faltou à prova   |0             |Faltou à prova   |\n",
            "|200005146210|2020  |2              |M      |2          |2        |0             |0             |0             |0             |null      |null      |null      |null      |0             |Faltou à prova   |0             |Faltou à prova   |0             |Faltou à prova   |0             |Faltou à prova   |\n",
            "|200004902048|2020  |6              |M      |1          |1        |0             |0             |0             |0             |null      |null      |null      |null      |0             |Faltou à prova   |0             |Faltou à prova   |0             |Faltou à prova   |0             |Faltou à prova   |\n",
            "|200005613689|2020  |3              |F      |3          |1        |0             |0             |0             |0             |null      |null      |null      |null      |0             |Faltou à prova   |0             |Faltou à prova   |0             |Faltou à prova   |0             |Faltou à prova   |\n",
            "|200004833505|2020  |11             |F      |2          |1        |0             |0             |0             |0             |null      |null      |null      |null      |0             |Faltou à prova   |0             |Faltou à prova   |0             |Faltou à prova   |0             |Faltou à prova   |\n",
            "|200004570764|2020  |11             |M      |2          |1        |0             |0             |0             |0             |null      |null      |null      |null      |0             |Faltou à prova   |0             |Faltou à prova   |0             |Faltou à prova   |0             |Faltou à prova   |\n",
            "|200001071590|2020  |5              |F      |3          |1        |0             |0             |0             |0             |null      |null      |null      |null      |0             |Faltou à prova   |0             |Faltou à prova   |0             |Faltou à prova   |0             |Faltou à prova   |\n",
            "|200001934470|2020  |7              |F      |3          |1        |0             |0             |0             |0             |null      |null      |null      |null      |0             |Faltou à prova   |0             |Faltou à prova   |0             |Faltou à prova   |0             |Faltou à prova   |\n",
            "|200006066678|2020  |4              |M      |1          |1        |0             |0             |0             |0             |null      |null      |null      |null      |0             |Faltou à prova   |0             |Faltou à prova   |0             |Faltou à prova   |0             |Faltou à prova   |\n",
            "+------------+------+---------------+-------+-----------+---------+--------------+--------------+--------------+--------------+----------+----------+----------+----------+--------------+-----------------+--------------+-----------------+--------------+-----------------+--------------+-----------------+\n",
            "only showing top 20 rows\n",
            "\n"
          ]
        }
      ]
    },
    {
      "cell_type": "code",
      "source": [
        "from google.colab import drive\n",
        "drive.mount('/content/drive')\n"
      ],
      "metadata": {
        "colab": {
          "base_uri": "https://localhost:8080/"
        },
        "id": "J6anfQxlv-MO",
        "outputId": "fcbdb6c4-a2e6-4e44-e73f-2821f3264660"
      },
      "execution_count": 82,
      "outputs": [
        {
          "output_type": "stream",
          "name": "stdout",
          "text": [
            "Mounted at /content/drive\n"
          ]
        }
      ]
    },
    {
      "cell_type": "code",
      "source": [
        "# Salvando o DataFrame Fato no Google Drive\n",
        "df_fato.write.mode(\"overwrite\") \\\n",
        "    .option(\"header\", \"true\") \\\n",
        "    .csv(\"file:///content/drive/MyDrive/SX/dM_Fato/df_fato.csv\")\n",
        "\n",
        "# Salvando as dimensões\n",
        "df_faixa_etaria.write.mode(\"overwrite\") \\\n",
        "    .option(\"header\", \"true\") \\\n",
        "    .csv(\"file:///content/drive/MyDrive/SX/dM_Faixa_etaria/df_faixa_etaria.csv\")\n",
        "\n",
        "df_sexo.write.mode(\"overwrite\") \\\n",
        "    .option(\"header\", \"true\") \\\n",
        "    .csv(\"file:///content/drive/MyDrive/SX/dM_Sexo/df_sexo.csv\")\n",
        "\n",
        "df_cor_raca.write.mode(\"overwrite\") \\\n",
        "    .option(\"header\", \"true\") \\\n",
        "    .csv(\"file:///content/drive/MyDrive/SX/dM_Raça/df_cor_raca.csv\")\n",
        "\n",
        "df_presenca.write.mode(\"overwrite\") \\\n",
        "    .option(\"header\", \"true\") \\\n",
        "    .csv(\"file:///content/drive/MyDrive/SX/dM_Fato - Presença/df_presenca.csv\")\n"
      ],
      "metadata": {
        "id": "I32ApsYWwUef"
      },
      "execution_count": 83,
      "outputs": []
    },
    {
      "cell_type": "code",
      "source": [
        "# Para o DataFrame Fato\n",
        "df_fato.coalesce(1) \\\n",
        "    .write.mode(\"overwrite\") \\\n",
        "    .option(\"header\", \"true\") \\\n",
        "    .csv(\"file:///content/drive/MyDrive/SX/dM_Fato/df_fato_single\")\n",
        "\n",
        "# Para a dimensão Faixa Etária\n",
        "df_faixa_etaria.coalesce(1) \\\n",
        "    .write.mode(\"overwrite\") \\\n",
        "    .option(\"header\", \"true\") \\\n",
        "    .csv(\"file:///content/drive/MyDrive/SX/dM_Faixa_etaria/df_faixa_etaria_single\")\n",
        "\n",
        "# Para a dimensão Sexo\n",
        "df_sexo.coalesce(1) \\\n",
        "    .write.mode(\"overwrite\") \\\n",
        "    .option(\"header\", \"true\") \\\n",
        "    .csv(\"file:///content/drive/MyDrive/SX/dM_Sexo/df_sexo_single\")\n",
        "\n",
        "# Para a dimensão Cor/Raça\n",
        "df_cor_raca.coalesce(1) \\\n",
        "    .write.mode(\"overwrite\") \\\n",
        "    .option(\"header\", \"true\") \\\n",
        "    .csv(\"file:///content/drive/MyDrive/SX/dM_Raça/df_cor_raca_single\")\n",
        "\n",
        "# Para a dimensão Presença\n",
        "df_presenca.coalesce(1) \\\n",
        "    .write.mode(\"overwrite\") \\\n",
        "    .option(\"header\", \"true\") \\\n",
        "    .csv(\"file:///content/drive/MyDrive/SX/dM_Fato - Presença/df_presenca_single\")\n"
      ],
      "metadata": {
        "id": "SrGL_M_cxgj_"
      },
      "execution_count": 84,
      "outputs": []
    },
    {
      "cell_type": "code",
      "source": [
        "# Exportando o DataFrame Fato\n",
        "df_fato.write.mode(\"overwrite\") \\\n",
        "    .option(\"header\", \"true\") \\\n",
        "    .csv(\"file:///C:/Users/marco/OneDrive/Área de Trabalho/SX/dM_Fato/df_fato.csv\")\n",
        "\n",
        "# Exportando as dimensões\n",
        "df_faixa_etaria.write.mode(\"overwrite\") \\\n",
        "    .option(\"header\", \"true\") \\\n",
        "    .csv(r\"file:///C:\\Users\\marco\\OneDrive\\Área de Trabalho\\SX\\dM_Faixa_etaria\\df_faixa_etaria.csv\")\n",
        "\n",
        "df_sexo.write.mode(\"overwrite\") \\\n",
        "    .option(\"header\", \"true\") \\\n",
        "    .csv(r\"file:///C:\\Users\\marco\\OneDrive\\Área de Trabalho\\SX\\dM_Sexo\\df_sexo.csv\")\n",
        "\n",
        "df_cor_raca.write.mode(\"overwrite\") \\\n",
        "    .option(\"header\", \"true\") \\\n",
        "    .csv(r\"file:///C:\\Users\\marco\\OneDrive\\Área de Trabalho\\SX\\dM_Raça\\df_cor_raca.csv\")\n",
        "\n",
        "df_presenca.write.mode(\"overwrite\") \\\n",
        "    .option(\"header\", \"true\") \\\n",
        "    .csv(r\"file:///C:\\Users\\marco\\OneDrive\\Área de Trabalho\\SX\\dM_Fato - Presença\\df_presenca.csv\")\n"
      ],
      "metadata": {
        "colab": {
          "base_uri": "https://localhost:8080/",
          "height": 564
        },
        "id": "IgM_zg_wmyoQ",
        "outputId": "a45d7145-432b-4492-8dc5-a30f8f7aef80"
      },
      "execution_count": 80,
      "outputs": [
        {
          "output_type": "stream",
          "name": "stderr",
          "text": [
            "ERROR:root:KeyboardInterrupt while sending command.\n",
            "Traceback (most recent call last):\n",
            "  File \"/content/spark-3.4.4-bin-hadoop3/python/lib/py4j-0.10.9.7-src.zip/py4j/java_gateway.py\", line 1038, in send_command\n",
            "    response = connection.send_command(command)\n",
            "               ^^^^^^^^^^^^^^^^^^^^^^^^^^^^^^^^\n",
            "  File \"/content/spark-3.4.4-bin-hadoop3/python/lib/py4j-0.10.9.7-src.zip/py4j/clientserver.py\", line 511, in send_command\n",
            "    answer = smart_decode(self.stream.readline()[:-1])\n",
            "                          ^^^^^^^^^^^^^^^^^^^^^^\n",
            "  File \"/usr/lib/python3.11/socket.py\", line 718, in readinto\n",
            "    return self._sock.recv_into(b)\n",
            "           ^^^^^^^^^^^^^^^^^^^^^^^\n",
            "KeyboardInterrupt\n"
          ]
        },
        {
          "output_type": "error",
          "ename": "KeyboardInterrupt",
          "evalue": "",
          "traceback": [
            "\u001b[0;31m---------------------------------------------------------------------------\u001b[0m",
            "\u001b[0;31mKeyboardInterrupt\u001b[0m                         Traceback (most recent call last)",
            "\u001b[0;32m<ipython-input-80-b604566a1c3c>\u001b[0m in \u001b[0;36m<cell line: 0>\u001b[0;34m()\u001b[0m\n\u001b[1;32m      2\u001b[0m \u001b[0mdf_fato\u001b[0m\u001b[0;34m.\u001b[0m\u001b[0mwrite\u001b[0m\u001b[0;34m.\u001b[0m\u001b[0mmode\u001b[0m\u001b[0;34m(\u001b[0m\u001b[0;34m\"overwrite\"\u001b[0m\u001b[0;34m)\u001b[0m\u001b[0;31m \u001b[0m\u001b[0;31m\\\u001b[0m\u001b[0;34m\u001b[0m\u001b[0;34m\u001b[0m\u001b[0m\n\u001b[1;32m      3\u001b[0m     \u001b[0;34m.\u001b[0m\u001b[0moption\u001b[0m\u001b[0;34m(\u001b[0m\u001b[0;34m\"header\"\u001b[0m\u001b[0;34m,\u001b[0m \u001b[0;34m\"true\"\u001b[0m\u001b[0;34m)\u001b[0m\u001b[0;31m \u001b[0m\u001b[0;31m\\\u001b[0m\u001b[0;34m\u001b[0m\u001b[0;34m\u001b[0m\u001b[0m\n\u001b[0;32m----> 4\u001b[0;31m     \u001b[0;34m.\u001b[0m\u001b[0mcsv\u001b[0m\u001b[0;34m(\u001b[0m\u001b[0;34m\"file:///C:/Users/marco/OneDrive/Área de Trabalho/SX/dM_Fato/df_fato.csv\"\u001b[0m\u001b[0;34m)\u001b[0m\u001b[0;34m\u001b[0m\u001b[0;34m\u001b[0m\u001b[0m\n\u001b[0m\u001b[1;32m      5\u001b[0m \u001b[0;34m\u001b[0m\u001b[0m\n\u001b[1;32m      6\u001b[0m \u001b[0;31m# Exportando as dimensões\u001b[0m\u001b[0;34m\u001b[0m\u001b[0;34m\u001b[0m\u001b[0m\n",
            "\u001b[0;32m/content/spark-3.4.4-bin-hadoop3/python/pyspark/sql/readwriter.py\u001b[0m in \u001b[0;36mcsv\u001b[0;34m(self, path, mode, compression, sep, quote, escape, header, nullValue, escapeQuotes, quoteAll, dateFormat, timestampFormat, ignoreLeadingWhiteSpace, ignoreTrailingWhiteSpace, charToEscapeQuoteEscaping, encoding, emptyValue, lineSep)\u001b[0m\n\u001b[1;32m   1797\u001b[0m             \u001b[0mlineSep\u001b[0m\u001b[0;34m=\u001b[0m\u001b[0mlineSep\u001b[0m\u001b[0;34m,\u001b[0m\u001b[0;34m\u001b[0m\u001b[0;34m\u001b[0m\u001b[0m\n\u001b[1;32m   1798\u001b[0m         )\n\u001b[0;32m-> 1799\u001b[0;31m         \u001b[0mself\u001b[0m\u001b[0;34m.\u001b[0m\u001b[0m_jwrite\u001b[0m\u001b[0;34m.\u001b[0m\u001b[0mcsv\u001b[0m\u001b[0;34m(\u001b[0m\u001b[0mpath\u001b[0m\u001b[0;34m)\u001b[0m\u001b[0;34m\u001b[0m\u001b[0;34m\u001b[0m\u001b[0m\n\u001b[0m\u001b[1;32m   1800\u001b[0m \u001b[0;34m\u001b[0m\u001b[0m\n\u001b[1;32m   1801\u001b[0m     def orc(\n",
            "\u001b[0;32m/content/spark-3.4.4-bin-hadoop3/python/lib/py4j-0.10.9.7-src.zip/py4j/java_gateway.py\u001b[0m in \u001b[0;36m__call__\u001b[0;34m(self, *args)\u001b[0m\n\u001b[1;32m   1319\u001b[0m             \u001b[0mproto\u001b[0m\u001b[0;34m.\u001b[0m\u001b[0mEND_COMMAND_PART\u001b[0m\u001b[0;34m\u001b[0m\u001b[0;34m\u001b[0m\u001b[0m\n\u001b[1;32m   1320\u001b[0m \u001b[0;34m\u001b[0m\u001b[0m\n\u001b[0;32m-> 1321\u001b[0;31m         \u001b[0manswer\u001b[0m \u001b[0;34m=\u001b[0m \u001b[0mself\u001b[0m\u001b[0;34m.\u001b[0m\u001b[0mgateway_client\u001b[0m\u001b[0;34m.\u001b[0m\u001b[0msend_command\u001b[0m\u001b[0;34m(\u001b[0m\u001b[0mcommand\u001b[0m\u001b[0;34m)\u001b[0m\u001b[0;34m\u001b[0m\u001b[0;34m\u001b[0m\u001b[0m\n\u001b[0m\u001b[1;32m   1322\u001b[0m         return_value = get_return_value(\n\u001b[1;32m   1323\u001b[0m             answer, self.gateway_client, self.target_id, self.name)\n",
            "\u001b[0;32m/content/spark-3.4.4-bin-hadoop3/python/lib/py4j-0.10.9.7-src.zip/py4j/java_gateway.py\u001b[0m in \u001b[0;36msend_command\u001b[0;34m(self, command, retry, binary)\u001b[0m\n\u001b[1;32m   1036\u001b[0m         \u001b[0mconnection\u001b[0m \u001b[0;34m=\u001b[0m \u001b[0mself\u001b[0m\u001b[0;34m.\u001b[0m\u001b[0m_get_connection\u001b[0m\u001b[0;34m(\u001b[0m\u001b[0;34m)\u001b[0m\u001b[0;34m\u001b[0m\u001b[0;34m\u001b[0m\u001b[0m\n\u001b[1;32m   1037\u001b[0m         \u001b[0;32mtry\u001b[0m\u001b[0;34m:\u001b[0m\u001b[0;34m\u001b[0m\u001b[0;34m\u001b[0m\u001b[0m\n\u001b[0;32m-> 1038\u001b[0;31m             \u001b[0mresponse\u001b[0m \u001b[0;34m=\u001b[0m \u001b[0mconnection\u001b[0m\u001b[0;34m.\u001b[0m\u001b[0msend_command\u001b[0m\u001b[0;34m(\u001b[0m\u001b[0mcommand\u001b[0m\u001b[0;34m)\u001b[0m\u001b[0;34m\u001b[0m\u001b[0;34m\u001b[0m\u001b[0m\n\u001b[0m\u001b[1;32m   1039\u001b[0m             \u001b[0;32mif\u001b[0m \u001b[0mbinary\u001b[0m\u001b[0;34m:\u001b[0m\u001b[0;34m\u001b[0m\u001b[0;34m\u001b[0m\u001b[0m\n\u001b[1;32m   1040\u001b[0m                 \u001b[0;32mreturn\u001b[0m \u001b[0mresponse\u001b[0m\u001b[0;34m,\u001b[0m \u001b[0mself\u001b[0m\u001b[0;34m.\u001b[0m\u001b[0m_create_connection_guard\u001b[0m\u001b[0;34m(\u001b[0m\u001b[0mconnection\u001b[0m\u001b[0;34m)\u001b[0m\u001b[0;34m\u001b[0m\u001b[0;34m\u001b[0m\u001b[0m\n",
            "\u001b[0;32m/content/spark-3.4.4-bin-hadoop3/python/lib/py4j-0.10.9.7-src.zip/py4j/clientserver.py\u001b[0m in \u001b[0;36msend_command\u001b[0;34m(self, command)\u001b[0m\n\u001b[1;32m    509\u001b[0m         \u001b[0;32mtry\u001b[0m\u001b[0;34m:\u001b[0m\u001b[0;34m\u001b[0m\u001b[0;34m\u001b[0m\u001b[0m\n\u001b[1;32m    510\u001b[0m             \u001b[0;32mwhile\u001b[0m \u001b[0;32mTrue\u001b[0m\u001b[0;34m:\u001b[0m\u001b[0;34m\u001b[0m\u001b[0;34m\u001b[0m\u001b[0m\n\u001b[0;32m--> 511\u001b[0;31m                 \u001b[0manswer\u001b[0m \u001b[0;34m=\u001b[0m \u001b[0msmart_decode\u001b[0m\u001b[0;34m(\u001b[0m\u001b[0mself\u001b[0m\u001b[0;34m.\u001b[0m\u001b[0mstream\u001b[0m\u001b[0;34m.\u001b[0m\u001b[0mreadline\u001b[0m\u001b[0;34m(\u001b[0m\u001b[0;34m)\u001b[0m\u001b[0;34m[\u001b[0m\u001b[0;34m:\u001b[0m\u001b[0;34m-\u001b[0m\u001b[0;36m1\u001b[0m\u001b[0;34m]\u001b[0m\u001b[0;34m)\u001b[0m\u001b[0;34m\u001b[0m\u001b[0;34m\u001b[0m\u001b[0m\n\u001b[0m\u001b[1;32m    512\u001b[0m                 \u001b[0mlogger\u001b[0m\u001b[0;34m.\u001b[0m\u001b[0mdebug\u001b[0m\u001b[0;34m(\u001b[0m\u001b[0;34m\"Answer received: {0}\"\u001b[0m\u001b[0;34m.\u001b[0m\u001b[0mformat\u001b[0m\u001b[0;34m(\u001b[0m\u001b[0manswer\u001b[0m\u001b[0;34m)\u001b[0m\u001b[0;34m)\u001b[0m\u001b[0;34m\u001b[0m\u001b[0;34m\u001b[0m\u001b[0m\n\u001b[1;32m    513\u001b[0m                 \u001b[0;31m# Happens when a the other end is dead. There might be an empty\u001b[0m\u001b[0;34m\u001b[0m\u001b[0;34m\u001b[0m\u001b[0m\n",
            "\u001b[0;32m/usr/lib/python3.11/socket.py\u001b[0m in \u001b[0;36mreadinto\u001b[0;34m(self, b)\u001b[0m\n\u001b[1;32m    716\u001b[0m         \u001b[0;32mwhile\u001b[0m \u001b[0;32mTrue\u001b[0m\u001b[0;34m:\u001b[0m\u001b[0;34m\u001b[0m\u001b[0;34m\u001b[0m\u001b[0m\n\u001b[1;32m    717\u001b[0m             \u001b[0;32mtry\u001b[0m\u001b[0;34m:\u001b[0m\u001b[0;34m\u001b[0m\u001b[0;34m\u001b[0m\u001b[0m\n\u001b[0;32m--> 718\u001b[0;31m                 \u001b[0;32mreturn\u001b[0m \u001b[0mself\u001b[0m\u001b[0;34m.\u001b[0m\u001b[0m_sock\u001b[0m\u001b[0;34m.\u001b[0m\u001b[0mrecv_into\u001b[0m\u001b[0;34m(\u001b[0m\u001b[0mb\u001b[0m\u001b[0;34m)\u001b[0m\u001b[0;34m\u001b[0m\u001b[0;34m\u001b[0m\u001b[0m\n\u001b[0m\u001b[1;32m    719\u001b[0m             \u001b[0;32mexcept\u001b[0m \u001b[0mtimeout\u001b[0m\u001b[0;34m:\u001b[0m\u001b[0;34m\u001b[0m\u001b[0;34m\u001b[0m\u001b[0m\n\u001b[1;32m    720\u001b[0m                 \u001b[0mself\u001b[0m\u001b[0;34m.\u001b[0m\u001b[0m_timeout_occurred\u001b[0m \u001b[0;34m=\u001b[0m \u001b[0;32mTrue\u001b[0m\u001b[0;34m\u001b[0m\u001b[0;34m\u001b[0m\u001b[0m\n",
            "\u001b[0;31mKeyboardInterrupt\u001b[0m: "
          ]
        }
      ]
    }
  ]
}